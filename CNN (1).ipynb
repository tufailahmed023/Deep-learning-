{
 "cells": [
  {
   "cell_type": "code",
   "execution_count": 57,
   "id": "8b8562f3",
   "metadata": {},
   "outputs": [],
   "source": [
    "import numpy as np\n",
    "import pandas as pd\n",
    "import tensorflow as tf \n",
    "from tensorflow import keras\n",
    "import matplotlib.pyplot as plt \n",
    "from keras import datasets,layers,models\n",
    "import seaborn as sns"
   ]
  },
  {
   "cell_type": "code",
   "execution_count": 2,
   "id": "28e80ec1",
   "metadata": {},
   "outputs": [],
   "source": [
    "(x_train,y_train),(x_test,y_test)=datasets.cifar10.load_data()"
   ]
  },
  {
   "cell_type": "code",
   "execution_count": 3,
   "id": "e02cf38d",
   "metadata": {},
   "outputs": [
    {
     "data": {
      "text/plain": [
       "(50000, 32, 32, 3)"
      ]
     },
     "execution_count": 3,
     "metadata": {},
     "output_type": "execute_result"
    }
   ],
   "source": [
    "x_train.shape"
   ]
  },
  {
   "cell_type": "code",
   "execution_count": 23,
   "id": "20758c40",
   "metadata": {},
   "outputs": [],
   "source": [
    "def plt_show(x,index):\n",
    "    plt.figure(figsize=(15,2))\n",
    "    plt.imshow(x[index])\n",
    " "
   ]
  },
  {
   "cell_type": "code",
   "execution_count": 24,
   "id": "40784512",
   "metadata": {},
   "outputs": [
    {
     "data": {
      "image/png": "[encoded data removed]",
      "text/plain": [
       "<Figure size 1080x144 with 1 Axes>"
      ]
     },
     "metadata": {
      "needs_background": "light"
     },
     "output_type": "display_data"
    }
   ],
   "source": [
    "plt_show(x_test,7)"
   ]
  },
  {
   "cell_type": "code",
   "execution_count": 25,
   "id": "faaa3ec1",
   "metadata": {},
   "outputs": [],
   "source": [
    "y_train=y_train.reshape(-1,)"
   ]
  },
  {
   "cell_type": "code",
   "execution_count": 26,
   "id": "8ae3286b",
   "metadata": {},
   "outputs": [
    {
     "data": {
      "text/plain": [
       "array([6, 9, 9, 4], dtype=uint8)"
      ]
     },
     "execution_count": 26,
     "metadata": {},
     "output_type": "execute_result"
    }
   ],
   "source": [
    "y_train[:4]"
   ]
  },
  {
   "cell_type": "code",
   "execution_count": 27,
   "id": "f97a52dd",
   "metadata": {},
   "outputs": [],
   "source": [
    "x_train=x_train/255\n",
    "x_test=x_test/255"
   ]
  },
  {
   "cell_type": "markdown",
   "id": "ca73d801",
   "metadata": {},
   "source": [
    "Model Buidling and Training"
   ]
  },
  {
   "cell_type": "code",
   "execution_count": 40,
   "id": "9b0b88a0",
   "metadata": {},
   "outputs": [],
   "source": [
    "cnn=models.Sequential([\n",
    "    #CNN\n",
    "    layers.Conv2D(filters=42,activation=\"relu\",kernel_size=(3,3),input_shape=(32,32,3)),\n",
    "    layers.MaxPool2D((2,2)),\n",
    "    layers.Conv2D(filters=64,activation=\"relu\",kernel_size=(3,3)),\n",
    "    layers.MaxPool2D((2,2)),\n",
    "    #dense layer\n",
    "    layers.Flatten(),\n",
    "    keras.layers.Dense(72,activation=\"relu\"),\n",
    "    keras.layers.Dense(10,activation=\"softmax\")\n",
    "    \n",
    "])"
   ]
  },
  {
   "cell_type": "code",
   "execution_count": 42,
   "id": "86beea36",
   "metadata": {},
   "outputs": [],
   "source": [
    "cnn.compile(optimizer='adam',\n",
    "               loss='sparse_categorical_crossentropy',\n",
    "               metrics=['accuracy'])"
   ]
  },
  {
   "cell_type": "code",
   "execution_count": 43,
   "id": "efd0dc26",
   "metadata": {},
   "outputs": [
    {
     "name": "stdout",
     "output_type": "stream",
     "text": [
      "Epoch 1/12\n",
      "1563/1563 [==============================] - 41s 26ms/step - loss: 1.4750 - accuracy: 0.4693\n",
      "Epoch 2/12\n",
      "1563/1563 [==============================] - 43s 27ms/step - loss: 1.1333 - accuracy: 0.6009\n",
      "Epoch 3/12\n",
      "1563/1563 [==============================] - 47s 30ms/step - loss: 1.0068 - accuracy: 0.6475\n",
      "Epoch 4/12\n",
      "1563/1563 [==============================] - 44s 28ms/step - loss: 0.9239 - accuracy: 0.6790\n",
      "Epoch 5/12\n",
      "1563/1563 [==============================] - 43s 28ms/step - loss: 0.8517 - accuracy: 0.7003\n",
      "Epoch 6/12\n",
      "1563/1563 [==============================] - 43s 27ms/step - loss: 0.8029 - accuracy: 0.7183\n",
      "Epoch 7/12\n",
      "1563/1563 [==============================] - 44s 28ms/step - loss: 0.7512 - accuracy: 0.7375\n",
      "Epoch 8/12\n",
      "1563/1563 [==============================] - 44s 28ms/step - loss: 0.7117 - accuracy: 0.7481\n",
      "Epoch 9/12\n",
      "1563/1563 [==============================] - 47s 30ms/step - loss: 0.6760 - accuracy: 0.7629\n",
      "Epoch 10/12\n",
      "1563/1563 [==============================] - 49s 31ms/step - loss: 0.6398 - accuracy: 0.7758\n",
      "Epoch 11/12\n",
      "1563/1563 [==============================] - 50s 32ms/step - loss: 0.6084 - accuracy: 0.7855\n",
      "Epoch 12/12\n",
      "1563/1563 [==============================] - 49s 32ms/step - loss: 0.5820 - accuracy: 0.7953\n"
     ]
    },
    {
     "data": {
      "text/plain": [
       "<keras.callbacks.History at 0x21e48fa4220>"
      ]
     },
     "execution_count": 43,
     "metadata": {},
     "output_type": "execute_result"
    }
   ],
   "source": [
    "cnn.fit(x_train,y_train,epochs=12)"
   ]
  },
  {
   "cell_type": "code",
   "execution_count": 44,
   "id": "34f82fa8",
   "metadata": {},
   "outputs": [
    {
     "name": "stdout",
     "output_type": "stream",
     "text": [
      "313/313 [==============================] - 3s 9ms/step - loss: 0.9328 - accuracy: 0.6982\n"
     ]
    },
    {
     "data": {
      "text/plain": [
       "[0.9327505826950073, 0.698199987411499]"
      ]
     },
     "execution_count": 44,
     "metadata": {},
     "output_type": "execute_result"
    }
   ],
   "source": [
    "cnn.evaluate(x_test,y_test)"
   ]
  },
  {
   "cell_type": "code",
   "execution_count": 46,
   "id": "2406c096",
   "metadata": {},
   "outputs": [],
   "source": [
    "y_pre=cnn.predict(x_test)"
   ]
  },
  {
   "cell_type": "code",
   "execution_count": 48,
   "id": "b58f9f05",
   "metadata": {},
   "outputs": [],
   "source": [
    "ypre=[np.argmax(i) for i in y_pre]"
   ]
  },
  {
   "cell_type": "code",
   "execution_count": 53,
   "id": "8aec2d31",
   "metadata": {},
   "outputs": [
    {
     "data": {
      "text/plain": [
       "[3, 8, 1, 0, 6, 6, 1, 6, 3, 1]"
      ]
     },
     "execution_count": 53,
     "metadata": {},
     "output_type": "execute_result"
    }
   ],
   "source": [
    "ypre[:10]"
   ]
  },
  {
   "cell_type": "code",
   "execution_count": 54,
   "id": "d03cddbd",
   "metadata": {},
   "outputs": [
    {
     "data": {
      "text/plain": [
       "array([3, 8, 8, 0, 6, 6, 1, 6, 3, 1], dtype=uint8)"
      ]
     },
     "execution_count": 54,
     "metadata": {},
     "output_type": "execute_result"
    }
   ],
   "source": [
    "y_test[:10]"
   ]
  },
  {
   "cell_type": "code",
   "execution_count": 51,
   "id": "a9610f6f",
   "metadata": {},
   "outputs": [],
   "source": [
    "y_test=y_test.reshape(-1,)"
   ]
  },
  {
   "cell_type": "code",
   "execution_count": 56,
   "id": "023da1a3",
   "metadata": {},
   "outputs": [],
   "source": [
    "cm=tf.math.confusion_matrix(labels=y_test,predictions=ypre)"
   ]
  },
  {
   "cell_type": "code",
   "execution_count": 58,
   "id": "f1c84d73",
   "metadata": {},
   "outputs": [
    {
     "data": {
      "text/plain": [
       "<AxesSubplot:>"
      ]
     },
     "execution_count": 58,
     "metadata": {},
     "output_type": "execute_result"
    },
    {
     "data": {
      "image/png": "[encoded data removed]",
      "text/plain": [
       "<Figure size 720x720 with 2 Axes>"
      ]
     },
     "metadata": {
      "needs_background": "light"
     },
     "output_type": "display_data"
    }
   ],
   "source": [
    "plt.figure(figsize=(10,10))\n",
    "plt.xlabel(\"prediction\")\n",
    "plt.ylabel(\"True\")\n",
    "sns.heatmap(cm,annot=True,fmt=\"d\")"
   ]
  },
  {
   "cell_type": "code",
   "execution_count": 59,
   "id": "daa1d211",
   "metadata": {},
   "outputs": [],
   "source": [
    "from sklearn.metrics import classification_report"
   ]
  },
  {
   "cell_type": "code",
   "execution_count": 60,
   "id": "c7cbc143",
   "metadata": {},
   "outputs": [
    {
     "name": "stdout",
     "output_type": "stream",
     "text": [
      "              precision    recall  f1-score   support\n",
      "\n",
      "           0       0.67      0.77      0.72      1000\n",
      "           1       0.84      0.81      0.83      1000\n",
      "           2       0.59      0.55      0.57      1000\n",
      "           3       0.52      0.55      0.53      1000\n",
      "           4       0.69      0.61      0.65      1000\n",
      "           5       0.61      0.59      0.60      1000\n",
      "           6       0.80      0.76      0.78      1000\n",
      "           7       0.78      0.70      0.74      1000\n",
      "           8       0.74      0.83      0.78      1000\n",
      "           9       0.74      0.82      0.78      1000\n",
      "\n",
      "    accuracy                           0.70     10000\n",
      "   macro avg       0.70      0.70      0.70     10000\n",
      "weighted avg       0.70      0.70      0.70     10000\n",
      "\n"
     ]
    }
   ],
   "source": [
    "print(classification_report(y_test,ypre))"
   ]
  },
  {
   "cell_type": "code",
   "execution_count": null,
   "id": "f0623734",
   "metadata": {},
   "outputs": [],
   "source": []
  }
 ],
 "metadata": {
  "kernelspec": {
   "display_name": "Python 3 (ipykernel)",
   "language": "python",
   "name": "python3"
  },
  "language_info": {
   "codemirror_mode": {
    "name": "ipython",
    "version": 3
   },
   "file_extension": ".py",
   "mimetype": "text/x-python",
   "name": "python",
   "nbconvert_exporter": "python",
   "pygments_lexer": "ipython3",
   "version": "3.9.7"
  }
 },
 "nbformat": 4,
 "nbformat_minor": 5
}
